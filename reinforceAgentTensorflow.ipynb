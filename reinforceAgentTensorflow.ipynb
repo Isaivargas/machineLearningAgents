{
  "nbformat": 4,
  "nbformat_minor": 0,
  "metadata": {
    "colab": {
      "name": "Untitled",
      "provenance": [],
      "collapsed_sections": [],
      "authorship_tag": "ABX9TyN/dGUqWNEukOV5kRywMk51",
      "include_colab_link": true
    },
    "kernelspec": {
      "name": "python3",
      "display_name": "Python 3"
    }
  },
  "cells": [
    {
      "cell_type": "markdown",
      "metadata": {
        "id": "view-in-github",
        "colab_type": "text"
      },
      "source": [
        "<a href=\"https://colab.research.google.com/github/Isaivargas/machineLearningAgents/blob/master/Untitled.ipynb\" target=\"_parent\"><img src=\"https://colab.research.google.com/assets/colab-badge.svg\" alt=\"Open In Colab\"/></a>"
      ]
    },
    {
      "cell_type": "markdown",
      "metadata": {
        "id": "VxiySYB_zj1u",
        "colab_type": "text"
      },
      "source": [
        "Install Dependecies"
      ]
    },
    {
      "cell_type": "code",
      "metadata": {
        "id": "G4j04RMazWw_",
        "colab_type": "code",
        "colab": {}
      },
      "source": [
        "!sudo apt-get install -y xvfb ffmpeg\n",
        "!pip install 'gym==0.10.11'\n",
        "!pip install 'imageio==2.4.0'\n",
        "!pip install PILLOW\n",
        "!pip install 'pyglet==1.3.2'\n",
        "!pip install pyvirtualdisplay\n",
        "!pip install --upgrade tensorflow-probability\n",
        "!pip install tf-agents"
      ],
      "execution_count": 0,
      "outputs": []
    },
    {
      "cell_type": "code",
      "metadata": {
        "id": "lGEYiQazziLZ",
        "colab_type": "code",
        "colab": {}
      },
      "source": [
        "from __future__ import absolute_import\n",
        "from __future__ import division\n",
        "from __future__ import print_function\n",
        "\n",
        "import base64\n",
        "import imageio\n",
        "import IPython\n",
        "import matplotlib\n",
        "import matplotlib.pyplot as plt\n",
        "import numpy as np\n",
        "import PIL.Image\n",
        "import pyvirtualdisplay\n",
        "\n",
        "import tensorflow as tf\n",
        "\n",
        "from tf_agents.agents.reinforce import reinforce_agent\n",
        "from tf_agents.drivers import dynamic_step_driver\n",
        "from tf_agents.environments import suite_gym\n",
        "from tf_agents.environments import tf_py_environment\n",
        "from tf_agents.eval import metric_utils\n",
        "from tf_agents.metrics import tf_metrics\n",
        "from tf_agents.networks import actor_distribution_network\n",
        "from tf_agents.replay_buffers import tf_uniform_replay_buffer\n",
        "from tf_agents.trajectories import trajectory\n",
        "from tf_agents.utils import common\n",
        "\n",
        "tf.compat.v1.enable_v2_behavior()\n",
        "\n",
        "\n",
        "# Set up a virtual display for rendering OpenAI gym environments.\n",
        "display = pyvirtualdisplay.Display(visible=0, size=(1400, 900)).start()"
      ],
      "execution_count": 0,
      "outputs": []
    },
    {
      "cell_type": "markdown",
      "metadata": {
        "id": "Bfn3LmvLz807",
        "colab_type": "text"
      },
      "source": [
        "Set HyperParameters"
      ]
    },
    {
      "cell_type": "code",
      "metadata": {
        "id": "O7OgCHKOzvGq",
        "colab_type": "code",
        "colab": {}
      },
      "source": [
        "env_name = \"CartPole-v0\" # @param {type:\"string\"}\n",
        "num_iterations =  100# @param {type:\"integer\"}\n",
        "collect_episodes_per_iteration = 2 # @param {type:\"integer\"}\n",
        "replay_buffer_capacity = 2000 # @param {type:\"integer\"}\n",
        "\n",
        "fc_layer_params = (100,)\n",
        "\n",
        "learning_rate = 1e-3 # @param {type:\"number\"}\n",
        "log_interval = 25 # @param {type:\"integer\"}\n",
        "num_eval_episodes = 10 # @param {type:\"integer\"}\n",
        "eval_interval = 50 # @param {type:\"integer\"}"
      ],
      "execution_count": 0,
      "outputs": []
    },
    {
      "cell_type": "code",
      "metadata": {
        "id": "S5uJVe8_1GZ1",
        "colab_type": "code",
        "colab": {}
      },
      "source": [
        "env = suite_gym.load(env_name)\n"
      ],
      "execution_count": 0,
      "outputs": []
    },
    {
      "cell_type": "code",
      "metadata": {
        "id": "zc_oLgwV27py",
        "colab_type": "code",
        "colab": {
          "base_uri": "https://localhost:8080/",
          "height": 417
        },
        "outputId": "54462fec-19d5-4c25-88d3-8d8e15a53413"
      },
      "source": [
        "env.reset()\n",
        "PIL.Image.fromarray(env.render())"
      ],
      "execution_count": 9,
      "outputs": [
        {
          "output_type": "execute_result",
          "data": {
            "image/png": "[encoded data removed]",
            "text/plain": [
              "<PIL.Image.Image image mode=RGB size=600x400 at 0x7FFB2CB05908>"
            ]
          },
          "metadata": {
            "tags": []
          },
          "execution_count": 9
        }
      ]
    },
    {
      "cell_type": "code",
      "metadata": {
        "id": "Yc3hAVeF2_D-",
        "colab_type": "code",
        "colab": {
          "base_uri": "https://localhost:8080/",
          "height": 105
        },
        "outputId": "b5a25d14-0009-4866-d429-60b743c11aa9"
      },
      "source": [
        "print('Observation Spec:')\n",
        "print(env.time_step_spec().observation)\n",
        "print('Action Spec:')\n",
        "print(env.action_spec())"
      ],
      "execution_count": 10,
      "outputs": [
        {
          "output_type": "stream",
          "text": [
            "Observation Spec:\n",
            "BoundedArraySpec(shape=(4,), dtype=dtype('float32'), name='observation', minimum=[-4.8000002e+00 -3.4028235e+38 -4.1887903e-01 -3.4028235e+38], maximum=[4.8000002e+00 3.4028235e+38 4.1887903e-01 3.4028235e+38])\n",
            "Action Spec:\n",
            "BoundedArraySpec(shape=(), dtype=dtype('int64'), name='action', minimum=0, maximum=1)\n"
          ],
          "name": "stdout"
        }
      ]
    },
    {
      "cell_type": "code",
      "metadata": {
        "id": "Lz09RCWq3DiD",
        "colab_type": "code",
        "colab": {
          "base_uri": "https://localhost:8080/",
          "height": 105
        },
        "outputId": "b62c46d0-d67c-40f3-9001-ec8020911ac8"
      },
      "source": [
        "time_step = env.reset()\n",
        "print('Time step:')\n",
        "print(time_step)\n",
        "\n",
        "action = np.array(1, dtype=np.int32)\n",
        "\n",
        "next_time_step = env.step(action)\n",
        "print('Next time step:')\n",
        "print(next_time_step)"
      ],
      "execution_count": 11,
      "outputs": [
        {
          "output_type": "stream",
          "text": [
            "Time step:\n",
            "TimeStep(step_type=array(0, dtype=int32), reward=array(0., dtype=float32), discount=array(1., dtype=float32), observation=array([ 0.00749359, -0.03039308,  0.00781173, -0.00318413], dtype=float32))\n",
            "Next time step:\n",
            "TimeStep(step_type=array(1, dtype=int32), reward=array(1., dtype=float32), discount=array(1., dtype=float32), observation=array([ 0.00688573,  0.16461597,  0.00774805, -0.29339215], dtype=float32))\n"
          ],
          "name": "stdout"
        }
      ]
    },
    {
      "cell_type": "code",
      "metadata": {
        "id": "Wz0KYzwM3V5G",
        "colab_type": "code",
        "colab": {}
      },
      "source": [
        "train_py_env = suite_gym.load(env_name)\n",
        "eval_py_env = suite_gym.load(env_name)\n",
        "\n",
        "train_env = tf_py_environment.TFPyEnvironment(train_py_env)\n",
        "eval_env = tf_py_environment.TFPyEnvironment(eval_py_env)"
      ],
      "execution_count": 0,
      "outputs": []
    },
    {
      "cell_type": "code",
      "metadata": {
        "id": "hdOeDGLe3X12",
        "colab_type": "code",
        "colab": {}
      },
      "source": [
        "actor_net = actor_distribution_network.ActorDistributionNetwork(train_env.observation_spec(), train_env.action_spec(),\n",
        "    fc_layer_params=fc_layer_params)"
      ],
      "execution_count": 0,
      "outputs": []
    },
    {
      "cell_type": "code",
      "metadata": {
        "id": "KvkbcqKM3ml-",
        "colab_type": "code",
        "colab": {}
      },
      "source": [
        "optimizer = tf.compat.v1.train.AdamOptimizer(learning_rate=learning_rate)\n",
        "\n",
        "train_step_counter = tf.compat.v2.Variable(0)\n",
        "\n",
        "tf_agent = reinforce_agent.ReinforceAgent(\n",
        "    train_env.time_step_spec(),\n",
        "    train_env.action_spec(),\n",
        "    actor_network=actor_net,\n",
        "    optimizer=optimizer,\n",
        "    normalize_returns=True,\n",
        "    train_step_counter=train_step_counter)\n",
        "tf_agent.initialize()"
      ],
      "execution_count": 0,
      "outputs": []
    },
    {
      "cell_type": "code",
      "metadata": {
        "id": "TYWu2sm17JJf",
        "colab_type": "code",
        "colab": {}
      },
      "source": [
        "eval_policy = tf_agent.policy\n",
        "collect_policy = tf_agent.collect_policy"
      ],
      "execution_count": 0,
      "outputs": []
    },
    {
      "cell_type": "code",
      "metadata": {
        "id": "wXSgms0H7P2p",
        "colab_type": "code",
        "colab": {}
      },
      "source": [
        "def compute_avg_return(environment, policy, num_episodes=10):\n",
        "\n",
        "  total_return = 0.0\n",
        "  for _ in range(num_episodes):\n",
        "\n",
        "    time_step = environment.reset()\n",
        "    episode_return = 0.0\n",
        "\n",
        "    while not time_step.is_last():\n",
        "      action_step = policy.action(time_step)\n",
        "      time_step = environment.step(action_step.action)\n",
        "      episode_return += time_step.reward\n",
        "    total_return += episode_return\n",
        "\n",
        "  avg_return = total_return / num_episodes\n",
        "  return avg_return.numpy()[0]\n",
        "\n",
        "\n",
        "# Please also see the metrics module for standard implementations of different\n",
        "# metrics."
      ],
      "execution_count": 0,
      "outputs": []
    },
    {
      "cell_type": "code",
      "metadata": {
        "id": "PK5-568t7XHa",
        "colab_type": "code",
        "colab": {}
      },
      "source": [
        "replay_buffer = tf_uniform_replay_buffer.TFUniformReplayBuffer(\n",
        "    data_spec=tf_agent.collect_data_spec,\n",
        "    batch_size=train_env.batch_size,\n",
        "    max_length=replay_buffer_capacity)"
      ],
      "execution_count": 0,
      "outputs": []
    },
    {
      "cell_type": "code",
      "metadata": {
        "id": "ekAiUz7m7ayX",
        "colab_type": "code",
        "colab": {}
      },
      "source": [
        "\n",
        "def collect_episode(environment, policy, num_episodes):\n",
        "\n",
        "  episode_counter = 0\n",
        "  environment.reset()\n",
        "\n",
        "  while episode_counter < num_episodes:\n",
        "    time_step = environment.current_time_step()\n",
        "    action_step = policy.action(time_step)\n",
        "    next_time_step = environment.step(action_step.action)\n",
        "    traj = trajectory.from_transition(time_step, action_step, next_time_step)\n",
        "\n",
        "    # Add trajectory to the replay buffer\n",
        "    replay_buffer.add_batch(traj)\n",
        "\n",
        "    if traj.is_boundary():\n",
        "      episode_counter += 1\n",
        "\n",
        "\n",
        "# This loop is so common in RL, that we provide standard implementations of\n",
        "# these. For more details see the drivers module."
      ],
      "execution_count": 0,
      "outputs": []
    },
    {
      "cell_type": "code",
      "metadata": {
        "id": "8cKcrm6j7itM",
        "colab_type": "code",
        "colab": {
          "base_uri": "https://localhost:8080/",
          "height": 292
        },
        "outputId": "c7c241c3-399f-4290-f478-1efbfa4b5369"
      },
      "source": [
        "try:\n",
        "  %%time\n",
        "except:\n",
        "  pass\n",
        "\n",
        "# (Optional) Optimize by wrapping some of the code in a graph using TF function.\n",
        "tf_agent.train = common.function(tf_agent.train)\n",
        "\n",
        "# Reset the train step\n",
        "tf_agent.train_step_counter.assign(0)\n",
        "\n",
        "# Evaluate the agent's policy once before training.\n",
        "avg_return = compute_avg_return(eval_env, tf_agent.policy, num_eval_episodes)\n",
        "returns = [avg_return]\n",
        "\n",
        "for _ in range(num_iterations):\n",
        "\n",
        "  # Collect a few episodes using collect_policy and save to the replay buffer.\n",
        "  collect_episode(\n",
        "      train_env, tf_agent.collect_policy, collect_episodes_per_iteration)\n",
        "\n",
        "  # Use data from the buffer and update the agent's network.\n",
        "  experience = replay_buffer.gather_all()\n",
        "  train_loss = tf_agent.train(experience)\n",
        "  replay_buffer.clear()\n",
        "\n",
        "  step = tf_agent.train_step_counter.numpy()\n",
        "\n",
        "  if step % log_interval == 0:\n",
        "    print('step = {0}: loss = {1}'.format(step, train_loss.loss))\n",
        "\n",
        "  if step % eval_interval == 0:\n",
        "    avg_return = compute_avg_return(eval_env, tf_agent.policy, num_eval_episodes)\n",
        "    print('step = {0}: Average Return = {1}'.format(step, avg_return))\n",
        "    returns.append(avg_return)"
      ],
      "execution_count": 23,
      "outputs": [
        {
          "output_type": "stream",
          "text": [
            "CPU times: user 3 µs, sys: 1 µs, total: 4 µs\n",
            "Wall time: 6.91 µs\n",
            "WARNING:tensorflow:From /usr/local/lib/python3.6/dist-packages/tf_agents/utils/value_ops.py:78: calling scan_v2 (from tensorflow.python.ops.functional_ops) with back_prop=False is deprecated and will be removed in a future version.\n",
            "Instructions for updating:\n",
            "back_prop=False is deprecated. Consider using tf.stop_gradient instead.\n",
            "Instead of:\n",
            "results = tf.scan(fn, elems, back_prop=False)\n",
            "Use:\n",
            "results = tf.nest.map_structure(tf.stop_gradient, tf.scan(fn, elems))\n",
            "step = 25: loss = -0.40197908878326416\n",
            "step = 50: loss = -0.18187227845191956\n",
            "step = 50: Average Return = 140.0\n",
            "step = 75: loss = -0.145374596118927\n",
            "step = 100: loss = -0.09873193502426147\n",
            "step = 100: Average Return = 150.3000030517578\n"
          ],
          "name": "stdout"
        }
      ]
    },
    {
      "cell_type": "code",
      "metadata": {
        "id": "Uq1b3jWZ8JnB",
        "colab_type": "code",
        "colab": {
          "base_uri": "https://localhost:8080/",
          "height": 300
        },
        "outputId": "fd5d91de-ff14-4453-d0ed-c150d7b2e7de"
      },
      "source": [
        "\n",
        "steps = range(0, num_iterations + 1, eval_interval)\n",
        "plt.plot(steps, returns)\n",
        "plt.ylabel('Average Return')\n",
        "plt.xlabel('Step')\n",
        "plt.ylim(top=250)"
      ],
      "execution_count": 24,
      "outputs": [
        {
          "output_type": "execute_result",
          "data": {
            "text/plain": [
              "(2.775000047683715, 250.0)"
            ]
          },
          "metadata": {
            "tags": []
          },
          "execution_count": 24
        },
        {
          "output_type": "display_data",
          "data": {
            "image/png": "[encoded data removed]",
            "text/plain": [
              "<Figure size 432x288 with 1 Axes>"
            ]
          },
          "metadata": {
            "tags": []
          }
        }
      ]
    },
    {
      "cell_type": "code",
      "metadata": {
        "id": "6VjvfzvG8PrO",
        "colab_type": "code",
        "colab": {}
      },
      "source": [
        "def embed_mp4(filename):\n",
        "  \"\"\"Embeds an mp4 file in the notebook.\"\"\"\n",
        "  video = open(filename,'rb').read()\n",
        "  b64 = base64.b64encode(video)\n",
        "  tag = '''\n",
        "  <video width=\"640\" height=\"480\" controls>\n",
        "    <source src=\"data:video/mp4;base64,{0}\" type=\"video/mp4\">\n",
        "  Your browser does not support the video tag.\n",
        "  </video>'''.format(b64.decode())\n",
        "\n",
        "  return IPython.display.HTML(tag)"
      ],
      "execution_count": 0,
      "outputs": []
    },
    {
      "cell_type": "code",
      "metadata": {
        "id": "RTo_QByC8SRU",
        "colab_type": "code",
        "colab": {
          "base_uri": "https://localhost:8080/",
          "height": 538
        },
        "outputId": "11349124-b009-4468-8dbd-9afe86bb39c2"
      },
      "source": [
        "num_episodes = 3\n",
        "video_filename = 'imageio.mp4'\n",
        "with imageio.get_writer(video_filename, fps=60) as video:\n",
        "  for _ in range(num_episodes):\n",
        "    time_step = eval_env.reset()\n",
        "    video.append_data(eval_py_env.render())\n",
        "    while not time_step.is_last():\n",
        "      action_step = tf_agent.policy.action(time_step)\n",
        "      time_step = eval_env.step(action_step.action)\n",
        "      video.append_data(eval_py_env.render())\n",
        "\n",
        "embed_mp4(video_filename)"
      ],
      "execution_count": 26,
      "outputs": [
        {
          "output_type": "stream",
          "text": [
            "WARNING:root:IMAGEIO FFMPEG_WRITER WARNING: input image is not divisible by macro_block_size=16, resizing from (400, 600) to (400, 608) to ensure video compatibility with most codecs and players. To prevent resizing, make your input image divisible by the macro_block_size or set the macro_block_size to None (risking incompatibility). You may also see a FFMPEG warning concerning speedloss due to data not being aligned.\n"
          ],
          "name": "stderr"
        },
        {
          "output_type": "execute_result",
          "data": {
            "text/html": [
              "\n",
              "  <video width=\"640\" height=\"480\" controls>\n",
              "    <source src=\"data:video/mp4;base64,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\" type=\"video/mp4\">\n",
              "  Your browser does not support the video tag.\n",
              "  </video>"
            ],
            "text/plain": [
              "<IPython.core.display.HTML object>"
            ]
          },
          "metadata": {
            "tags": []
          },
          "execution_count": 26
        }
      ]
    }
  ]
}
